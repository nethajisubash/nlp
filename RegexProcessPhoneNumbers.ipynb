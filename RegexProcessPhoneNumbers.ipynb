{
  "nbformat": 4,
  "nbformat_minor": 0,
  "metadata": {
    "colab": {
      "provenance": []
    },
    "kernelspec": {
      "name": "python3",
      "display_name": "Python 3"
    },
    "language_info": {
      "name": "python"
    }
  },
  "cells": [
    {
      "cell_type": "code",
      "execution_count": 1,
      "metadata": {
        "id": "y-XtwORhAQyP"
      },
      "outputs": [],
      "source": [
        "import re\n",
        "chat1 = 'codebasics: you ask lot of questions 😠  1235678912, abc@xyz.com'\n",
        "chat2 = 'codebasics: here it is: (123)-567-8912, abc@xyz.com'\n",
        "chat3 = 'codebasics: yes, phone: 1235678912 email: abc@xyz.com'\n",
        "chat4 = 'codebasics: yes, phone: 1235678912 email: nethaji@hotmail.com'"
      ]
    },
    {
      "cell_type": "markdown",
      "source": [],
      "metadata": {
        "id": "kHyXq95KA3Z8"
      }
    },
    {
      "cell_type": "code",
      "source": [
        "pattern= '\\d{10}'\n",
        "matches = re.findall(pattern, chat2)\n",
        "matches"
      ],
      "metadata": {
        "colab": {
          "base_uri": "https://localhost:8080/"
        },
        "id": "oqfrS9o9AqKO",
        "outputId": "72e3059a-44dc-451c-c011-8573b743f27e"
      },
      "execution_count": 2,
      "outputs": [
        {
          "output_type": "execute_result",
          "data": {
            "text/plain": [
              "[]"
            ]
          },
          "metadata": {},
          "execution_count": 2
        }
      ]
    },
    {
      "cell_type": "code",
      "source": [
        "pattern2 = '\\(\\d{3}\\)-\\d{3}-\\d{4}'\n",
        "matches2 = re.findall(pattern2, chat2)\n",
        "matches2"
      ],
      "metadata": {
        "colab": {
          "base_uri": "https://localhost:8080/"
        },
        "id": "H_60EFMOA1Fg",
        "outputId": "fa10e1d2-f1ea-4f89-873c-627878edbf30"
      },
      "execution_count": 3,
      "outputs": [
        {
          "output_type": "execute_result",
          "data": {
            "text/plain": [
              "['(123)-567-8912']"
            ]
          },
          "metadata": {},
          "execution_count": 3
        }
      ]
    },
    {
      "cell_type": "code",
      "source": [
        "pattern3 = '\\d{10}|\\(\\d{3}\\)-\\d{3}-\\d{4}'\n",
        "matches3 = re.findall(pattern3, chat3)\n",
        "matches3"
      ],
      "metadata": {
        "colab": {
          "base_uri": "https://localhost:8080/"
        },
        "id": "HRtVRsHMBJNh",
        "outputId": "f32d94fd-2924-4081-dcd4-8cd379f25aae"
      },
      "execution_count": 4,
      "outputs": [
        {
          "output_type": "execute_result",
          "data": {
            "text/plain": [
              "['1235678912']"
            ]
          },
          "metadata": {},
          "execution_count": 4
        }
      ]
    },
    {
      "cell_type": "code",
      "source": [
        "pattern4 = '[\\w\\.-]+@[\\w\\.-]+'\n",
        "matches4 = re.findall(pattern4, chat3)\n",
        "matches4"
      ],
      "metadata": {
        "colab": {
          "base_uri": "https://localhost:8080/"
        },
        "id": "RWjBxKP5B1Rj",
        "outputId": "ebc56808-bea9-47ea-f351-cad17fcd6e6c"
      },
      "execution_count": 5,
      "outputs": [
        {
          "output_type": "execute_result",
          "data": {
            "text/plain": [
              "['abc@xyz.com']"
            ]
          },
          "metadata": {},
          "execution_count": 5
        }
      ]
    },
    {
      "cell_type": "code",
      "source": [
        "matches5 = re.findall(pattern4, chat4)\n",
        "matches5"
      ],
      "metadata": {
        "colab": {
          "base_uri": "https://localhost:8080/"
        },
        "id": "qQfMfSqMCHRc",
        "outputId": "13271a97-c3fc-4426-c9de-f9bee5de59e2"
      },
      "execution_count": 6,
      "outputs": [
        {
          "output_type": "execute_result",
          "data": {
            "text/plain": [
              "['nethaji@hotmail.com']"
            ]
          },
          "metadata": {},
          "execution_count": 6
        }
      ]
    },
    {
      "cell_type": "code",
      "source": [
        "chat1='codebasics: Hello, I am having an issue with my order # 412889912'\n",
        "chat2='codebasics: I have a problem with my order number 412889912'\n",
        "chat3='codebasics: My order 412889912 is having an issue, I was charged 300$ when online it says 280$'\n",
        "# Here is the main pattern . Anything that starts with order and then has number. WIthin the () is the output. ^ any character\n",
        "pattern ='order[^\\d]*(\\d*)'\n",
        "matches = re.findall(pattern, chat2)\n",
        "matches"
      ],
      "metadata": {
        "colab": {
          "base_uri": "https://localhost:8080/"
        },
        "id": "f2IkpHudCRAt",
        "outputId": "e310b9e4-323f-4960-afbb-1b94b8860685"
      },
      "execution_count": 9,
      "outputs": [
        {
          "output_type": "execute_result",
          "data": {
            "text/plain": [
              "['412889912']"
            ]
          },
          "metadata": {},
          "execution_count": 9
        }
      ]
    },
    {
      "cell_type": "code",
      "source": [],
      "metadata": {
        "id": "W9RXRGJIhf8a"
      },
      "execution_count": null,
      "outputs": []
    }
  ]
}