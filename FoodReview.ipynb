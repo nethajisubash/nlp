{
  "cells": [
    {
      "cell_type": "markdown",
      "metadata": {
        "id": "view-in-github",
        "colab_type": "text"
      },
      "source": [
        "<a href=\"https://colab.research.google.com/github/nethajisubash/nlp/blob/main/FoodReview.ipynb\" target=\"_parent\"><img src=\"https://colab.research.google.com/assets/colab-badge.svg\" alt=\"Open In Colab\"/></a>"
      ]
    },
    {
      "cell_type": "markdown",
      "metadata": {
        "id": "fJFKX_pnm5zI"
      },
      "source": [
        "<h1 align='center'>Python Regular Expression Tutorial Exericse</h1>"
      ]
    },
    {
      "cell_type": "code",
      "execution_count": 1,
      "metadata": {
        "id": "B0YATGwhm5zJ"
      },
      "outputs": [],
      "source": [
        "import numpy as np\n",
        "import pandas as pd\n",
        "from tensorflow.keras.preprocessing.text import one_hot\n",
        "from tensorflow.keras.preprocessing.sequence import pad_sequences\n",
        "from tensorflow.keras.models import Sequential\n",
        "from tensorflow.keras.layers import Dense\n",
        "from tensorflow.keras.layers import Flatten\n",
        "from tensorflow.keras.layers import Embedding\n"
      ]
    },
    {
      "cell_type": "code",
      "source": [
        "reviews =  ['nice food',\n",
        "        'amazing restaurant',\n",
        "        'too good',\n",
        "        'just loved it!',\n",
        "        'will go again',\n",
        "        'horrible food',\n",
        "        'never go there',\n",
        "        'poor service',\n",
        "        'poor quality',\n",
        "          'needs improvement']\n",
        "\n",
        "sentiment = np.array([1,1,1,1,1,0,0,0,0,0])"
      ],
      "metadata": {
        "id": "RpujdWetQ4Pv"
      },
      "execution_count": 3,
      "outputs": []
    },
    {
      "cell_type": "code",
      "source": [
        "one_hot('amazing restaurant',30)"
      ],
      "metadata": {
        "id": "gexqhkzIRr8L",
        "outputId": "cc8a1329-5756-4a0e-d4da-68f467b0bcb6",
        "colab": {
          "base_uri": "https://localhost:8080/"
        }
      },
      "execution_count": 7,
      "outputs": [
        {
          "output_type": "execute_result",
          "data": {
            "text/plain": [
              "[10, 2]"
            ]
          },
          "metadata": {},
          "execution_count": 7
        }
      ]
    },
    {
      "cell_type": "code",
      "source": [
        "vocab_size = 30\n",
        "encoded_reviews = [one_hot(d,vocab_size) for d in reviews]\n",
        "print(encoded_reviews)"
      ],
      "metadata": {
        "id": "VQqhQtN1RyLM",
        "outputId": "ce919d31-e726-4bc4-fb75-7f06c88f8ec1",
        "colab": {
          "base_uri": "https://localhost:8080/"
        }
      },
      "execution_count": 9,
      "outputs": [
        {
          "output_type": "stream",
          "name": "stdout",
          "text": [
            "[[20, 2], [10, 2], [26, 14], [11, 4, 17], [23, 13, 18], [21, 2], [28, 13, 25], [6, 23], [6, 19], [2, 13]]\n"
          ]
        }
      ]
    },
    {
      "cell_type": "code",
      "source": [
        "#padding based on sentence length\n",
        "sentence_length = 3\n",
        "padded_reviews = pad_sequences(encoded_reviews, maxlen=sentence_length, padding='post')\n",
        "print(padded_reviews)"
      ],
      "metadata": {
        "id": "M6uk2_uySDeF",
        "outputId": "fb524715-2837-4c8c-c4d0-02b566131ba4",
        "colab": {
          "base_uri": "https://localhost:8080/"
        }
      },
      "execution_count": 11,
      "outputs": [
        {
          "output_type": "stream",
          "name": "stdout",
          "text": [
            "[[20  2  0]\n",
            " [10  2  0]\n",
            " [26 14  0]\n",
            " [11  4 17]\n",
            " [23 13 18]\n",
            " [21  2  0]\n",
            " [28 13 25]\n",
            " [ 6 23  0]\n",
            " [ 6 19  0]\n",
            " [ 2 13  0]]\n"
          ]
        }
      ]
    },
    {
      "cell_type": "code",
      "source": [
        "embedding_vector_length = 4\n",
        "model = Sequential()\n",
        "model.add(Embedding(vocab_size, embedding_vector_length, input_length=sentence_length, name=\"embedding\"))\n",
        "model.add(Flatten())\n",
        "model.add(Dense(1, activation='sigmoid'))\n"
      ],
      "metadata": {
        "id": "C1KEm1BbSmmY"
      },
      "execution_count": 12,
      "outputs": []
    },
    {
      "cell_type": "code",
      "source": [
        "X_train = padded_reviews\n",
        "y_train = sentiment"
      ],
      "metadata": {
        "id": "4ebQzDbxTTTl"
      },
      "execution_count": 13,
      "outputs": []
    },
    {
      "cell_type": "code",
      "source": [
        "model.compile('adam', loss='binary_crossentropy', metrics=['accuracy'])\n",
        "model.summary()"
      ],
      "metadata": {
        "id": "Xfp7YAkkTQXJ",
        "outputId": "897a553e-de62-4197-e65a-62e3e04bba79",
        "colab": {
          "base_uri": "https://localhost:8080/"
        }
      },
      "execution_count": 14,
      "outputs": [
        {
          "output_type": "stream",
          "name": "stdout",
          "text": [
            "Model: \"sequential\"\n",
            "_________________________________________________________________\n",
            " Layer (type)                Output Shape              Param #   \n",
            "=================================================================\n",
            " embedding (Embedding)       (None, 3, 4)              120       \n",
            "                                                                 \n",
            " flatten (Flatten)           (None, 12)                0         \n",
            "                                                                 \n",
            " dense (Dense)               (None, 1)                 13        \n",
            "                                                                 \n",
            "=================================================================\n",
            "Total params: 133 (532.00 Byte)\n",
            "Trainable params: 133 (532.00 Byte)\n",
            "Non-trainable params: 0 (0.00 Byte)\n",
            "_________________________________________________________________\n"
          ]
        }
      ]
    },
    {
      "cell_type": "code",
      "source": [
        "model.fit(X_train, y_train, epochs=50, verbose=0)"
      ],
      "metadata": {
        "id": "LeNyehuQTe_H",
        "outputId": "f13ed425-af52-44b5-dd7a-8de1a8ca9752",
        "colab": {
          "base_uri": "https://localhost:8080/"
        }
      },
      "execution_count": 15,
      "outputs": [
        {
          "output_type": "execute_result",
          "data": {
            "text/plain": [
              "<keras.src.callbacks.History at 0x7b47ef964550>"
            ]
          },
          "metadata": {},
          "execution_count": 15
        }
      ]
    },
    {
      "cell_type": "code",
      "source": [
        "loss, accuracy = model.evaluate(X_train, y_train, verbose=0)\n",
        "print('Accuracy: %f' % (accuracy*100))"
      ],
      "metadata": {
        "id": "_KmFVMmrTtuB",
        "outputId": "064fa438-e906-48ef-b1de-45ccc4f372da",
        "colab": {
          "base_uri": "https://localhost:8080/"
        }
      },
      "execution_count": 16,
      "outputs": [
        {
          "output_type": "stream",
          "name": "stdout",
          "text": [
            "Accuracy: 100.000000\n"
          ]
        }
      ]
    },
    {
      "cell_type": "code",
      "source": [
        "model.get_layer('embedding').get_weights()[0]"
      ],
      "metadata": {
        "id": "WwxyB94PTyhr",
        "outputId": "f3536657-ba65-4256-b1fc-d1a287c07b66",
        "colab": {
          "base_uri": "https://localhost:8080/"
        }
      },
      "execution_count": 17,
      "outputs": [
        {
          "output_type": "execute_result",
          "data": {
            "text/plain": [
              "array([[ 0.09501718,  0.08926638,  0.08646975,  0.0999371 ],\n",
              "       [ 0.01932937,  0.02862961, -0.01201664,  0.03246267],\n",
              "       [-0.05045304,  0.00813955, -0.08474198,  0.03488208],\n",
              "       [ 0.02385242, -0.03065398, -0.04793371, -0.00778081],\n",
              "       [-0.01132744, -0.00843562, -0.0277553 ,  0.01687733],\n",
              "       [ 0.04630834, -0.01935979,  0.04174657, -0.00641043],\n",
              "       [-0.06640022,  0.03746063, -0.04908629,  0.01933245],\n",
              "       [ 0.04126288, -0.0090788 ,  0.00605805, -0.01275263],\n",
              "       [-0.03653526, -0.02166001,  0.04103707, -0.04599842],\n",
              "       [ 0.01007265,  0.03163227,  0.00710315, -0.00986067],\n",
              "       [ 0.00384662, -0.06987723,  0.04373436, -0.0172582 ],\n",
              "       [ 0.00096309, -0.03248653,  0.08506902, -0.06372762],\n",
              "       [-0.01861669, -0.04767466, -0.0247542 ,  0.0327641 ],\n",
              "       [ 0.00739183,  0.09706657,  0.05758524, -0.04054089],\n",
              "       [ 0.00116396, -0.04429734, -0.09347602,  0.09833968],\n",
              "       [ 0.00170221, -0.00442885,  0.00969952,  0.04918456],\n",
              "       [-0.01130397, -0.0348086 , -0.03043336, -0.00950049],\n",
              "       [-0.05232484, -0.08604103, -0.04334683, -0.05134962],\n",
              "       [-0.07777759, -0.09620538, -0.00704734, -0.00294748],\n",
              "       [ 0.01388468,  0.03057881,  0.01205203, -0.09373146],\n",
              "       [ 0.0543387 , -0.03760912,  0.0516211 , -0.01455768],\n",
              "       [-0.09593272,  0.03135401, -0.08242878,  0.04046592],\n",
              "       [-0.04947525, -0.03374111, -0.01507242, -0.0325795 ],\n",
              "       [ 0.00613821, -0.05939343,  0.07432361, -0.09123393],\n",
              "       [ 0.02390683, -0.01289905, -0.00482865,  0.01739759],\n",
              "       [ 0.01190528,  0.00141338,  0.09112778,  0.07271808],\n",
              "       [ 0.00393535, -0.01292187,  0.01082455, -0.00094624],\n",
              "       [-0.00222557, -0.0475544 , -0.00699645,  0.03903016],\n",
              "       [-0.04442784,  0.08202164, -0.09985768,  0.09566367],\n",
              "       [-0.01768703,  0.03110668, -0.00154274,  0.00320543]],\n",
              "      dtype=float32)"
            ]
          },
          "metadata": {},
          "execution_count": 17
        }
      ]
    },
    {
      "cell_type": "code",
      "source": [],
      "metadata": {
        "id": "lBg3FpOST6py"
      },
      "execution_count": null,
      "outputs": []
    }
  ],
  "metadata": {
    "kernelspec": {
      "display_name": "Python 3",
      "language": "python",
      "name": "python3"
    },
    "language_info": {
      "codemirror_mode": {
        "name": "ipython",
        "version": 3
      },
      "file_extension": ".py",
      "mimetype": "text/x-python",
      "name": "python",
      "nbconvert_exporter": "python",
      "pygments_lexer": "ipython3",
      "version": "3.8.5"
    },
    "colab": {
      "provenance": [],
      "include_colab_link": true
    }
  },
  "nbformat": 4,
  "nbformat_minor": 0
}